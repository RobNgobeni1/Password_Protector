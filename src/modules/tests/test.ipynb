{
 "cells": [
  {
   "cell_type": "code",
   "execution_count": 75,
   "metadata": {},
   "outputs": [
    {
     "name": "stdout",
     "output_type": "stream",
     "text": [
      "Error: module 'pikepdf' has no attribute 'is_pdf_encrypted'\n",
      "Error: module 'pikepdf' has no attribute 'is_pdf_encrypted'\n",
      "Error: module 'pikepdf' has no attribute 'is_pdf_encrypted'\n",
      "Error: module 'pikepdf' has no attribute 'is_pdf_encrypted'\n",
      "Error: module 'pikepdf' has no attribute 'is_pdf_encrypted'\n",
      "Error: module 'pikepdf' has no attribute 'is_pdf_encrypted'\n",
      "Error: module 'pikepdf' has no attribute 'is_pdf_encrypted'\n",
      "Supported Files\n",
      "g:\\22. Data Analytics\\Rob - WIP\\Python_Scripts\\Python\\Masego\\Password App\\Import Files\\To Be Processed\\060044_closure_letter_ngobeni_5898461089092298.pdf\n",
      "g:\\22. Data Analytics\\Rob - WIP\\Python_Scripts\\Python\\Masego\\Password App\\Import Files\\To Be Processed\\105237_paid_up_letter_all_PLP367161_20230826_8004437226701.pdf\n",
      "g:\\22. Data Analytics\\Rob - WIP\\Python_Scripts\\Python\\Masego\\Password App\\Import Files\\To Be Processed\\Enrollment Form - Completed.pdf\n",
      "g:\\22. Data Analytics\\Rob - WIP\\Python_Scripts\\Python\\Masego\\Password App\\Import Files\\To Be Processed\\ID.pdf\n",
      "g:\\22. Data Analytics\\Rob - WIP\\Python_Scripts\\Python\\Masego\\Password App\\Import Files\\To Be Processed\\Matric Certificate.pdf\n",
      "g:\\22. Data Analytics\\Rob - WIP\\Python_Scripts\\Python\\Masego\\Password App\\Import Files\\To Be Processed\\Robert J Ngobeni.pdf\n",
      "g:\\22. Data Analytics\\Rob - WIP\\Python_Scripts\\Python\\Masego\\Password App\\Import Files\\To Be Processed\\Robert Ngobeni - Application Form.pdf\n",
      "unsupported Files\n"
     ]
    }
   ],
   "source": [
    "from pathlib import Path\n",
    "import shutil, random, string, pandas as pd \n",
    "import datetime as dt \n",
    "import pikepdf, os, secrets, PyPDF2\n",
    "\n",
    "\n",
    "folder = 'g:/22. Data Analytics/Rob - WIP/Python_Scripts/Python/Masego/Password App/Import Files/To Be Processed'\n",
    "FILE_TYPES = ['.pdf']\n",
    "\n",
    "\n",
    "file_list = list()\n",
    "for item in Path(folder).iterdir(): file_list.append(item)\n",
    "supported_files = list()\n",
    "not_supported_files = list()\n",
    "\n",
    "\n",
    "# Check for file ext not supported\n",
    "for file in file_list:\n",
    "    if Path(str(file).lower()).suffix not in FILE_TYPES:\n",
    "        not_supported_files.append(file)\n",
    "    else:\n",
    "        supported_files.append(file)\n",
    "\n",
    "for file_name in supported_files:\n",
    "    try:\n",
    "        if is_pdf_encrypted(file_name):\n",
    "            if file_name in supported_files: supported_files.remove(file_name)\n",
    "    except pikepdf.PasswordError:\n",
    "            if file_name not in supported_files: supported_files.append(supported_files)\n",
    "    except Exception as e:\n",
    "        print(f\"Error: {e}\")\n",
    "\n",
    "\n",
    "\n",
    "\n",
    "print('Supported Files')\n",
    "for item in supported_files: print(item)\n",
    "\n",
    "print('unsupported Files')\n",
    "for item in not_supported_files: print(item)\n",
    "\n",
    "\n"
   ]
  }
 ],
 "metadata": {
  "kernelspec": {
   "display_name": "Python 3",
   "language": "python",
   "name": "python3"
  },
  "language_info": {
   "codemirror_mode": {
    "name": "ipython",
    "version": 3
   },
   "file_extension": ".py",
   "mimetype": "text/x-python",
   "name": "python",
   "nbconvert_exporter": "python",
   "pygments_lexer": "ipython3",
   "version": "3.13.1"
  }
 },
 "nbformat": 4,
 "nbformat_minor": 2
}
